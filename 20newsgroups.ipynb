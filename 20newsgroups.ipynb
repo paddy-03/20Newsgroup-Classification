{
  "nbformat": 4,
  "nbformat_minor": 0,
  "metadata": {
    "kernelspec": {
      "display_name": "Python 3",
      "language": "python",
      "name": "python3"
    },
    "language_info": {
      "codemirror_mode": {
        "name": "ipython",
        "version": 3
      },
      "file_extension": ".py",
      "mimetype": "text/x-python",
      "name": "python",
      "nbconvert_exporter": "python",
      "pygments_lexer": "ipython3",
      "version": "3.6.4"
    },
    "colab": {
      "name": "20newsgroups.ipynb",
      "provenance": [],
      "include_colab_link": true
    }
  },
  "cells": [
    {
      "cell_type": "markdown",
      "metadata": {
        "id": "view-in-github",
        "colab_type": "text"
      },
      "source": [
        "<a href=\"https://colab.research.google.com/github/paddy-03/20Newsgroup-Classification/blob/master/20newsgroups.ipynb\" target=\"_parent\"><img src=\"https://colab.research.google.com/assets/colab-badge.svg\" alt=\"Open In Colab\"/></a>"
      ]
    },
    {
      "cell_type": "markdown",
      "metadata": {
        "id": "5l0mfo9q0kaG",
        "colab_type": "text"
      },
      "source": [
        "# **20 News groups classification**"
      ]
    },
    {
      "cell_type": "code",
      "metadata": {
        "id": "xLQADSPK0kaJ",
        "colab_type": "code",
        "colab": {}
      },
      "source": [
        "import numpy as np\n",
        "import os\n",
        "import pandas as pd\n",
        "import matplotlib.pyplot as plt\n",
        "import nltk\n",
        "from nltk.corpus import stopwords\n",
        "from nltk.tokenize import RegexpTokenizer\n",
        "from nltk.stem import WordNetLemmatizer\n",
        "from sklearn.naive_bayes import MultinomialNB\n",
        "from sklearn.model_selection import train_test_split\n",
        "from sklearn.metrics import confusion_matrix\n",
        "from sklearn.metrics import classification_report\n",
        "from sklearn.decomposition import PCA"
      ],
      "execution_count": 0,
      "outputs": []
    },
    {
      "cell_type": "code",
      "metadata": {
        "id": "rrBj_Feb0kaP",
        "colab_type": "code",
        "colab": {}
      },
      "source": [
        "os.chdir('/home/swarup03/Study_Material/Cognizance codes/20newsgroups')\n",
        "folders = os.listdir()\n",
        "path = str(os.getcwd())\n",
        "folders = sorted(folders) # consists of all the 20 groups is alphabetical order"
      ],
      "execution_count": 0,
      "outputs": []
    },
    {
      "cell_type": "code",
      "metadata": {
        "id": "KYk_PfYX0kaU",
        "colab_type": "code",
        "colab": {}
      },
      "source": [
        "word_dict={}  # Used for storing all the words that we encounter in our documents"
      ],
      "execution_count": 0,
      "outputs": []
    },
    {
      "cell_type": "code",
      "metadata": {
        "id": "x_WmTB860kaX",
        "colab_type": "code",
        "colab": {}
      },
      "source": [
        "stop_words = stopwords.words('english') # list of stopwords"
      ],
      "execution_count": 0,
      "outputs": []
    },
    {
      "cell_type": "code",
      "metadata": {
        "id": "cadOKQhX0kab",
        "colab_type": "code",
        "colab": {}
      },
      "source": [
        "data = []  # Used to store all our data, we will use this to make X_train\n",
        "y_train = [] # for y_train \n",
        "m=0 # denoting the folder number or group number"
      ],
      "execution_count": 0,
      "outputs": []
    },
    {
      "cell_type": "markdown",
      "metadata": {
        "id": "r5wgevYk0kaf",
        "colab_type": "text"
      },
      "source": [
        "# Extracting all the words from text files"
      ]
    },
    {
      "cell_type": "code",
      "metadata": {
        "id": "3VhU66iK0kag",
        "colab_type": "code",
        "colab": {}
      },
      "source": [
        "for folder in folders:\n",
        "    #print(folder)\n",
        "    \n",
        "    files = os.listdir(os.chdir(str(path) + '/'+folder))\n",
        "    new_path = os.getcwd() #path for each sub-folder\n",
        "    os.chdir(path)\n",
        "    for file in files:\n",
        "       \n",
        "        try:\n",
        "            \n",
        "            \n",
        "            reader = open(new_path+'/'+file,'r',errors='ignore')\n",
        "            text=reader.read()\n",
        "            text=text.lower() # text consists of the content\n",
        "    \n",
        "            tokenizer = RegexpTokenizer(r'\\w+') # filtering out all punctuations\n",
        "            tokens = tokenizer.tokenize(text) # tokens consists of all the words in the text\n",
        "            \n",
        "            wordnet_lemmatizer = WordNetLemmatizer() # grouping together diff types of same word\n",
        "            tokens = [wordnet_lemmatizer.lemmatize(t) for t in tokens] # eg. write and writes \n",
        "                     \n",
        "            # Filtering out all stopwords, meaning less words (1993apr) and words less than 5 alphabets\n",
        "            tokens=[w for w in tokens if len(w)>=4 and w not in stop_words and w.isalpha()]\n",
        "            \n",
        "            data.append(tokens) # will be used for making X_train\n",
        "            y_train.append(m)\n",
        "            \n",
        "            counter = nltk.Counter(tokens) # storing count of words\n",
        "            \n",
        "            for word in counter.keys():\n",
        "                if word not in word_dict.keys():\n",
        "                    word_dict[word]=counter[word]\n",
        "                else:\n",
        "                    word_dict[word]+=counter[word]\n",
        "            \n",
        "        except:\n",
        "            continue \n",
        "    m+=1\n",
        "    \n",
        "        \n",
        "     "
      ],
      "execution_count": 0,
      "outputs": []
    },
    {
      "cell_type": "code",
      "metadata": {
        "id": "a-JVzT3c0kak",
        "colab_type": "code",
        "colab": {},
        "outputId": "d2b0e9c2-a090-4ecb-d28f-1866fcb117c1"
      },
      "source": [
        "len(data)"
      ],
      "execution_count": 0,
      "outputs": [
        {
          "output_type": "execute_result",
          "data": {
            "text/plain": [
              "16315"
            ]
          },
          "metadata": {
            "tags": []
          },
          "execution_count": 16
        }
      ]
    },
    {
      "cell_type": "markdown",
      "metadata": {
        "id": "m3n9OjvA0kap",
        "colab_type": "text"
      },
      "source": [
        "# Extracting out top 2000 words with ignoring the first 15 which occur in almost each document"
      ]
    },
    {
      "cell_type": "code",
      "metadata": {
        "id": "MJJfttyM0kaq",
        "colab_type": "code",
        "colab": {}
      },
      "source": [
        "import operator\n",
        "vocabulary=sorted(word_dict.items(),key=operator.itemgetter(1),reverse=True)[15:2000]\n"
      ],
      "execution_count": 0,
      "outputs": []
    },
    {
      "cell_type": "code",
      "metadata": {
        "id": "pMcLl34w0kau",
        "colab_type": "code",
        "colab": {}
      },
      "source": [
        "vocabulary = [x[0] for x in vocabulary]\n",
        "#print(vocabulary)\n",
        "# words in vocabulary will be used as features"
      ],
      "execution_count": 0,
      "outputs": []
    },
    {
      "cell_type": "markdown",
      "metadata": {
        "id": "f1ByXmPz0kay",
        "colab_type": "text"
      },
      "source": [
        "# Formatting our dataset"
      ]
    },
    {
      "cell_type": "code",
      "metadata": {
        "id": "x_a8pcc90ka0",
        "colab_type": "code",
        "colab": {}
      },
      "source": [
        "X_train = np.zeros((len(data),len(vocabulary)))\n",
        "index=0\n",
        "vocab_index=0"
      ],
      "execution_count": 0,
      "outputs": []
    },
    {
      "cell_type": "code",
      "metadata": {
        "id": "mwCATQsO0ka6",
        "colab_type": "code",
        "colab": {}
      },
      "source": [
        "for doc in data:\n",
        "    for word in doc:\n",
        "        vocab_index=0\n",
        "        for feature in vocabulary:\n",
        "            if feature == word:\n",
        "                X_train[index][vocab_index]+=1\n",
        "            vocab_index+=1\n",
        "    index+=1\n",
        "            "
      ],
      "execution_count": 0,
      "outputs": []
    },
    {
      "cell_type": "code",
      "metadata": {
        "id": "3tYqgFPg0ka_",
        "colab_type": "code",
        "colab": {},
        "outputId": "cfeca4f0-e148-4a4d-e45e-2668eeb56054"
      },
      "source": [
        "len(X_train),len(y_train)"
      ],
      "execution_count": 0,
      "outputs": [
        {
          "output_type": "execute_result",
          "data": {
            "text/plain": [
              "(16315, 16315)"
            ]
          },
          "metadata": {
            "tags": []
          },
          "execution_count": 21
        }
      ]
    },
    {
      "cell_type": "markdown",
      "metadata": {
        "id": "LnbOdaeZ0kbD",
        "colab_type": "text"
      },
      "source": [
        "# Preparing our Test Data"
      ]
    },
    {
      "cell_type": "code",
      "metadata": {
        "id": "iuJZ9rJ90kbE",
        "colab_type": "code",
        "colab": {}
      },
      "source": [
        "os.chdir('/home/swarup03/Study_Material/Cognizance codes/test20ng')\n",
        "folders = os.listdir()\n",
        "folders=[int(i) for i in folders if i.isdigit()]\n",
        "path = str(os.getcwd())\n",
        "folders = sorted(folders)\n",
        "#folders"
      ],
      "execution_count": 0,
      "outputs": []
    },
    {
      "cell_type": "code",
      "metadata": {
        "id": "T0LO43pC0kbH",
        "colab_type": "code",
        "colab": {}
      },
      "source": [
        "test_data = []\n",
        "y_test = []\n",
        "m=0 "
      ],
      "execution_count": 0,
      "outputs": []
    },
    {
      "cell_type": "code",
      "metadata": {
        "id": "iVfAKfaI0kbL",
        "colab_type": "code",
        "colab": {}
      },
      "source": [
        "for folder in folders:\n",
        "    #print(folder)\n",
        "    \n",
        "    files = os.listdir(os.chdir(str(path) + '/'+str(folder)))\n",
        "    new_path = os.getcwd()\n",
        "    os.chdir(path)\n",
        "    for file in files:\n",
        "        try:\n",
        "                 \n",
        "            reader = open(new_path+'/'+file,'r',errors='ignore')\n",
        "            \n",
        "            text=str(reader.read())\n",
        "            text=text.lower()\n",
        "        \n",
        "            tokenizer = RegexpTokenizer(r'\\w+') # filtering out all punctuations\n",
        "            tokens = tokenizer.tokenize(text)\n",
        "            \n",
        "            wordnet_lemmatizer = WordNetLemmatizer() # grouping together diff types of same word\n",
        "            tokens = [wordnet_lemmatizer.lemmatize(t) for t in tokens] # eg. write and writes \n",
        "            \n",
        "            tokens=[w for w in tokens if len(w)>=4 and w not in stop_words and w.isalpha()]\n",
        "            \n",
        "            test_data.append(tokens)\n",
        "            y_test.append(m)\n",
        "            \n",
        "        except:\n",
        "            continue\n",
        "    m+=1\n",
        "     "
      ],
      "execution_count": 0,
      "outputs": []
    },
    {
      "cell_type": "code",
      "metadata": {
        "id": "biftQpLF0kbO",
        "colab_type": "code",
        "colab": {}
      },
      "source": [
        "X_test = np.zeros((len(test_data),len(vocabulary)))\n",
        "index=0\n",
        "vocab_index=0"
      ],
      "execution_count": 0,
      "outputs": []
    },
    {
      "cell_type": "code",
      "metadata": {
        "id": "fu5Jnv800kbR",
        "colab_type": "code",
        "colab": {}
      },
      "source": [
        "for doc in test_data:\n",
        "    for word in doc:\n",
        "        vocab_index=0\n",
        "        for feature in vocabulary:\n",
        "            if feature == word:\n",
        "                X_test[index][vocab_index]+=1\n",
        "            vocab_index+=1\n",
        "    index+=1\n",
        "            "
      ],
      "execution_count": 0,
      "outputs": []
    },
    {
      "cell_type": "markdown",
      "metadata": {
        "id": "rxBFo3LU0kbU",
        "colab_type": "text"
      },
      "source": [
        "# Implementing MNB (sklearn)"
      ]
    },
    {
      "cell_type": "code",
      "metadata": {
        "id": "nmQ2y6eI0kbV",
        "colab_type": "code",
        "colab": {},
        "outputId": "780de72d-36fe-46c5-8571-a1d7d2f93200"
      },
      "source": [
        "clf = MultinomialNB(alpha=1)\n",
        "clf.fit(X_train,y_train)\n"
      ],
      "execution_count": 0,
      "outputs": [
        {
          "output_type": "execute_result",
          "data": {
            "text/plain": [
              "MultinomialNB(alpha=1, class_prior=None, fit_prior=True)"
            ]
          },
          "metadata": {
            "tags": []
          },
          "execution_count": 105
        }
      ]
    },
    {
      "cell_type": "code",
      "metadata": {
        "id": "Utt2_0Kw0kbZ",
        "colab_type": "code",
        "colab": {},
        "outputId": "b885dd03-10cd-43c6-cfbf-89805f95a253"
      },
      "source": [
        "clf.score(X_test,y_test)"
      ],
      "execution_count": 0,
      "outputs": [
        {
          "output_type": "execute_result",
          "data": {
            "text/plain": [
              "0.8465507876154263"
            ]
          },
          "metadata": {
            "tags": []
          },
          "execution_count": 106
        }
      ]
    },
    {
      "cell_type": "code",
      "metadata": {
        "id": "p9sewyMm0kbh",
        "colab_type": "code",
        "colab": {},
        "outputId": "8d814a18-6fa7-4d60-c944-f12930b0571d"
      },
      "source": [
        "clf.score(X_train,y_train)"
      ],
      "execution_count": 0,
      "outputs": [
        {
          "output_type": "execute_result",
          "data": {
            "text/plain": [
              "0.8889365614465216"
            ]
          },
          "metadata": {
            "tags": []
          },
          "execution_count": 107
        }
      ]
    },
    {
      "cell_type": "code",
      "metadata": {
        "id": "vXpFVQ_Z0kbo",
        "colab_type": "code",
        "colab": {},
        "outputId": "2dc1eec4-155e-4d24-f26c-bdc33d1c72bb"
      },
      "source": [
        "y_pred_clf = clf.predict(X_test)\n",
        "print(classification_report(y_test,y_pred_clf))"
      ],
      "execution_count": 0,
      "outputs": [
        {
          "output_type": "stream",
          "text": [
            "             precision    recall  f1-score   support\n",
            "\n",
            "          0       0.75      0.87      0.81       168\n",
            "          1       0.86      0.74      0.80       171\n",
            "          2       0.80      0.85      0.82       192\n",
            "          3       0.64      0.73      0.68       190\n",
            "          4       0.69      0.75      0.72       176\n",
            "          5       0.89      0.79      0.84       175\n",
            "          6       0.89      0.93      0.91       177\n",
            "          7       0.80      0.88      0.84       174\n",
            "          8       0.89      0.91      0.90       182\n",
            "          9       0.94      0.94      0.94       198\n",
            "         10       0.95      0.94      0.94       200\n",
            "         11       0.94      0.97      0.96       171\n",
            "         12       0.88      0.85      0.86       207\n",
            "         13       0.95      0.84      0.89       175\n",
            "         14       0.95      0.92      0.93       198\n",
            "         15       0.96      0.99      0.98       200\n",
            "         16       0.85      0.87      0.86       170\n",
            "         17       0.90      0.89      0.89       175\n",
            "         18       0.75      0.66      0.70       174\n",
            "         19       0.68      0.61      0.65       209\n",
            "\n",
            "avg / total       0.85      0.85      0.85      3682\n",
            "\n"
          ],
          "name": "stdout"
        }
      ]
    },
    {
      "cell_type": "markdown",
      "metadata": {
        "id": "DrWyIABn0kbu",
        "colab_type": "text"
      },
      "source": [
        "# Saving the training and testing data in csv format"
      ]
    },
    {
      "cell_type": "code",
      "metadata": {
        "id": "itc1U5e20kbv",
        "colab_type": "code",
        "colab": {}
      },
      "source": [
        "os.chdir('/home/swarup03/Study_Material/Cognizance codes')"
      ],
      "execution_count": 0,
      "outputs": []
    },
    {
      "cell_type": "code",
      "metadata": {
        "id": "Whr9_7320kby",
        "colab_type": "code",
        "colab": {}
      },
      "source": [
        "np.savetxt('X_train.csv',X_train,delimiter=',',fmt='%1.0f')"
      ],
      "execution_count": 0,
      "outputs": []
    },
    {
      "cell_type": "code",
      "metadata": {
        "id": "cR_rPE0A0kb1",
        "colab_type": "code",
        "colab": {}
      },
      "source": [
        "np.savetxt('Y_train.csv',y_train,fmt='%1.0f')"
      ],
      "execution_count": 0,
      "outputs": []
    },
    {
      "cell_type": "code",
      "metadata": {
        "id": "MVdFS4Z20kb4",
        "colab_type": "code",
        "colab": {}
      },
      "source": [
        "np.savetxt('X_test.csv',X_test,delimiter=',',fmt='%1.0f')"
      ],
      "execution_count": 0,
      "outputs": []
    },
    {
      "cell_type": "code",
      "metadata": {
        "id": "GH9ZNoWJ0kb7",
        "colab_type": "code",
        "colab": {}
      },
      "source": [
        "np.savetxt('Y_test.csv',y_test,fmt='%1.0f')"
      ],
      "execution_count": 0,
      "outputs": []
    },
    {
      "cell_type": "markdown",
      "metadata": {
        "id": "Aej29DW30kb9",
        "colab_type": "text"
      },
      "source": [
        "# My own Implementation of MNB "
      ]
    },
    {
      "cell_type": "code",
      "metadata": {
        "id": "6aNsxY6d0kb-",
        "colab_type": "code",
        "colab": {}
      },
      "source": [
        "y_train=np.array(y_train)\n",
        "y_test=np.array(y_test)"
      ],
      "execution_count": 0,
      "outputs": []
    },
    {
      "cell_type": "code",
      "metadata": {
        "id": "2l4JCFX10kcA",
        "colab_type": "code",
        "colab": {}
      },
      "source": [
        "def probability(x,c,res):\n",
        "    output= np.log(res[c]['total_count']) - np.log(res['total_data'])\n",
        "    num_features = len(res[c].keys())-2\n",
        "    for j in range(num_features):\n",
        "        if x[j] > 0:\n",
        "            output+= np.log(x[j]) + np.log(res[c][j]+1) - np.log(res[c]['total_words']+num_features)\n",
        "     \n",
        "    return output\n",
        "    "
      ],
      "execution_count": 0,
      "outputs": []
    },
    {
      "cell_type": "code",
      "metadata": {
        "id": "q3j5krcT0kcE",
        "colab_type": "code",
        "colab": {}
      },
      "source": [
        "def predictsinglepoint(x,res):\n",
        "    classes = res.keys()\n",
        "    best_p=-1\n",
        "    best_class=-1\n",
        "    first_run = True\n",
        "    for c in classes:\n",
        "        if c!= 'total_data':\n",
        "           # print(c)\n",
        "            p_current = probability(x,c,res)\n",
        "            #print(res[c])\n",
        "            #print('%.20f'%p_current)\n",
        "            if(first_run or p_current>best_p):\n",
        "                best_p = p_current\n",
        "                best_class = c\n",
        "            #print(best_p)\n",
        "            first_run=False\n",
        "    return best_class"
      ],
      "execution_count": 0,
      "outputs": []
    },
    {
      "cell_type": "code",
      "metadata": {
        "id": "BG2_VJde0kcG",
        "colab_type": "code",
        "colab": {}
      },
      "source": [
        "def predict(X,res):\n",
        "    y_pred=[]\n",
        "    \n",
        "    for x in X:\n",
        "        #print(x[:10])\n",
        "        x_class = predictsinglepoint(x,res)\n",
        "        y_pred.append(x_class)\n",
        "    return y_pred"
      ],
      "execution_count": 0,
      "outputs": []
    },
    {
      "cell_type": "code",
      "metadata": {
        "id": "kbagbGSI0kcJ",
        "colab_type": "code",
        "colab": {}
      },
      "source": [
        "def fit(X,y):\n",
        "    res={}\n",
        "    classes = set(y)\n",
        "    res['total_data']=len(y)\n",
        "    for c in classes:\n",
        "        res[c]={}\n",
        "        #print(y==0)\n",
        "        c_rows = (y==c)\n",
        "        X_current = X[c_rows]\n",
        "        y_current = y[c_rows]\n",
        "        num_features=X.shape[1]\n",
        "        res[c]['total_words']=0\n",
        "        res[c]['total_count']=len(y_current)\n",
        "        for j in range(num_features):\n",
        "            res[c][j]=X_current[:,j].sum()\n",
        "            res[c]['total_words']+=res[c][j]\n",
        "    return res\n",
        "    "
      ],
      "execution_count": 0,
      "outputs": []
    },
    {
      "cell_type": "code",
      "metadata": {
        "id": "yMRxP2EE0kcM",
        "colab_type": "code",
        "colab": {}
      },
      "source": [
        "res=fit(X_train,y_train)"
      ],
      "execution_count": 0,
      "outputs": []
    },
    {
      "cell_type": "code",
      "metadata": {
        "id": "yuF6iOzY0kcP",
        "colab_type": "code",
        "colab": {}
      },
      "source": [
        "y_pred = predict(X_test,res)"
      ],
      "execution_count": 0,
      "outputs": []
    },
    {
      "cell_type": "code",
      "metadata": {
        "id": "dUWbmnr-0kcR",
        "colab_type": "code",
        "colab": {},
        "outputId": "a3992e2c-7079-4ccd-9799-0d5bcc0c14e0"
      },
      "source": [
        "print(classification_report(y_test,y_pred))"
      ],
      "execution_count": 0,
      "outputs": [
        {
          "output_type": "stream",
          "text": [
            "             precision    recall  f1-score   support\n",
            "\n",
            "          0       0.70      0.91      0.79       168\n",
            "          1       0.82      0.75      0.78       171\n",
            "          2       0.83      0.80      0.81       192\n",
            "          3       0.66      0.72      0.69       190\n",
            "          4       0.65      0.80      0.71       176\n",
            "          5       0.91      0.78      0.84       175\n",
            "          6       0.91      0.94      0.93       177\n",
            "          7       0.86      0.89      0.87       174\n",
            "          8       0.89      0.92      0.91       182\n",
            "          9       0.96      0.97      0.97       198\n",
            "         10       0.98      0.97      0.98       200\n",
            "         11       0.96      0.96      0.96       171\n",
            "         12       0.84      0.90      0.87       207\n",
            "         13       0.94      0.83      0.88       175\n",
            "         14       0.96      0.86      0.91       198\n",
            "         15       0.98      0.99      0.99       200\n",
            "         16       0.83      0.92      0.87       170\n",
            "         17       0.92      0.90      0.91       175\n",
            "         18       0.77      0.70      0.73       174\n",
            "         19       0.73      0.53      0.61       209\n",
            "\n",
            "avg / total       0.86      0.85      0.85      3682\n",
            "\n"
          ],
          "name": "stdout"
        }
      ]
    },
    {
      "cell_type": "code",
      "metadata": {
        "id": "7_2vCdFc0kcU",
        "colab_type": "code",
        "colab": {}
      },
      "source": [
        "def score(y,y_pred):\n",
        "    ans=0\n",
        "    for i in range(len(y_pred)):\n",
        "        if y_pred[i]==y_test[i]:\n",
        "            ans+=1\n",
        "        \n",
        "    return ans/len(y_pred)"
      ],
      "execution_count": 0,
      "outputs": []
    },
    {
      "cell_type": "code",
      "metadata": {
        "id": "9qlEVmao0kcY",
        "colab_type": "code",
        "colab": {},
        "outputId": "a4fe6474-cf45-4238-84fd-93695bd8eac4"
      },
      "source": [
        "score(y_test,y_pred)"
      ],
      "execution_count": 0,
      "outputs": [
        {
          "output_type": "execute_result",
          "data": {
            "text/plain": [
              "0.8511678435632808"
            ]
          },
          "metadata": {
            "tags": []
          },
          "execution_count": 104
        }
      ]
    },
    {
      "cell_type": "markdown",
      "metadata": {
        "id": "lbyUBw1B0kcc",
        "colab_type": "text"
      },
      "source": [
        "# **Comparison**"
      ]
    },
    {
      "cell_type": "markdown",
      "metadata": {
        "id": "10TkPYI_0kcd",
        "colab_type": "text"
      },
      "source": [
        "## **1) Accuracy score**"
      ]
    },
    {
      "cell_type": "markdown",
      "metadata": {
        "id": "mv75RwBG0kcf",
        "colab_type": "text"
      },
      "source": [
        "### a) MNB sklearn"
      ]
    },
    {
      "cell_type": "markdown",
      "metadata": {
        "id": "QyKw1ssZ0kcg",
        "colab_type": "text"
      },
      "source": [
        "Score = **0.8465507876154263**"
      ]
    },
    {
      "cell_type": "markdown",
      "metadata": {
        "id": "oTrur2pQ0kch",
        "colab_type": "text"
      },
      "source": [
        "### b) MNB (own implementation)"
      ]
    },
    {
      "cell_type": "markdown",
      "metadata": {
        "id": "8pLnmTnP0kci",
        "colab_type": "text"
      },
      "source": [
        "Score = **0.8511678435632808**"
      ]
    },
    {
      "cell_type": "markdown",
      "metadata": {
        "id": "K7q3KYCb0kcj",
        "colab_type": "text"
      },
      "source": [
        "## **2) Classification Report**"
      ]
    },
    {
      "cell_type": "markdown",
      "metadata": {
        "id": "AeKLL1uC0kck",
        "colab_type": "text"
      },
      "source": [
        "### a) MNB (sklearn)"
      ]
    },
    {
      "cell_type": "markdown",
      "metadata": {
        "id": "VXOlFSLZ0kcl",
        "colab_type": "text"
      },
      "source": [
        "      precision    recall  f1-score   support\n",
        "\n",
        "          0       0.75      0.87      0.81       168\n",
        "          1       0.86      0.74      0.80       171\n",
        "          2       0.80      0.85      0.82       192\n",
        "          3       0.64      0.73      0.68       190\n",
        "          4       0.69      0.75      0.72       176\n",
        "          5       0.89      0.79      0.84       175\n",
        "          6       0.89      0.93      0.91       177\n",
        "          7       0.80      0.88      0.84       174\n",
        "          8       0.89      0.91      0.90       182\n",
        "          9       0.94      0.94      0.94       198\n",
        "         10       0.95      0.94      0.94       200\n",
        "         11       0.94      0.97      0.96       171\n",
        "         12       0.88      0.85      0.86       207\n",
        "         13       0.95      0.84      0.89       175\n",
        "         14       0.95      0.92      0.93       198\n",
        "         15       0.96      0.99      0.98       200\n",
        "         16       0.85      0.87      0.86       170\n",
        "         17       0.90      0.89      0.89       175\n",
        "         18       0.75      0.66      0.70       174\n",
        "         19       0.68      0.61      0.65       209\n",
        "\n",
        "    avg / total   0.85      0.85      0.85      3682\n"
      ]
    },
    {
      "cell_type": "markdown",
      "metadata": {
        "id": "cpadTtuP0kcm",
        "colab_type": "text"
      },
      "source": [
        "### b) MNB (own implementation)"
      ]
    },
    {
      "cell_type": "markdown",
      "metadata": {
        "id": "0-ETBRL30kcn",
        "colab_type": "text"
      },
      "source": [
        "      precision    recall  f1-score   support\n",
        "\n",
        "          0       0.70      0.91      0.79       168\n",
        "          1       0.82      0.75      0.78       171\n",
        "          2       0.83      0.80      0.81       192\n",
        "          3       0.66      0.72      0.69       190\n",
        "          4       0.65      0.80      0.71       176\n",
        "          5       0.91      0.78      0.84       175\n",
        "          6       0.91      0.94      0.93       177\n",
        "          7       0.86      0.89      0.87       174\n",
        "          8       0.89      0.92      0.91       182\n",
        "          9       0.96      0.97      0.97       198\n",
        "         10       0.98      0.97      0.98       200\n",
        "         11       0.96      0.96      0.96       171\n",
        "         12       0.84      0.90      0.87       207\n",
        "         13       0.94      0.83      0.88       175\n",
        "         14       0.96      0.86      0.91       198\n",
        "         15       0.98      0.99      0.99       200\n",
        "         16       0.83      0.92      0.87       170\n",
        "         17       0.92      0.90      0.91       175\n",
        "         18       0.77      0.70      0.73       174\n",
        "         19       0.73      0.53      0.61       209\n",
        "\n",
        "    avg / total   0.86      0.85      0.85      3682"
      ]
    },
    {
      "cell_type": "code",
      "metadata": {
        "id": "fVgoiNbP0kco",
        "colab_type": "code",
        "colab": {}
      },
      "source": [
        ""
      ],
      "execution_count": 0,
      "outputs": []
    }
  ]
}